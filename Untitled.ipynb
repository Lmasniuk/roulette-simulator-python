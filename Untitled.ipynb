{
 "cells": [
  {
   "cell_type": "code",
   "execution_count": 369,
   "metadata": {},
   "outputs": [
    {
     "name": "stdout",
     "output_type": "stream",
     "text": [
      "Final Earnings: $360\n"
     ]
    },
    {
     "data": {
      "image/png": "[encoded data removed]",
      "text/plain": [
       "<Figure size 432x288 with 1 Axes>"
      ]
     },
     "metadata": {
      "needs_background": "light"
     },
     "output_type": "display_data"
    }
   ],
   "source": [
    "%matplotlib inline\n",
    "import matplotlib.pyplot as plt\n",
    "\n",
    "import random\n",
    "\n",
    "sequence_bets = {\n",
    "    1: 1,\n",
    "    2: 1,\n",
    "    3: 1,\n",
    "    4: 1,\n",
    "    5: 2,\n",
    "    6: 2,\n",
    "    7: 2,\n",
    "    8: 2,\n",
    "    9: 3,\n",
    "    10: 3,\n",
    "    11: 4,\n",
    "    12: 4,\n",
    "    13: 5,\n",
    "    14: 6,\n",
    "    15: 7,\n",
    "    16: 8,\n",
    "    17: 9,\n",
    "    18: 11,\n",
    "    19: 13,\n",
    "    20: 15,\n",
    "    21: 17,\n",
    "    22: 20,\n",
    "    23: 24,\n",
    "    24: 28,\n",
    "    25: 32,\n",
    "    26: 38,\n",
    "    27: 44,\n",
    "    28: 51\n",
    "}\n",
    "\n",
    "def play_games():\n",
    "    wins = 0\n",
    "    losses = 0\n",
    "    bet = 1\n",
    "\n",
    "    money = 0\n",
    "\n",
    "    for x in range(0, TOTAL_SPINS):\n",
    "        outcome = random.randint(1, 38)\n",
    "        if (outcome in range(1,NUMBERS_PLAYED+1)):\n",
    "            wins = wins + 1\n",
    "            winnings = (35 * sequence_bets[bet]) - (sequence_bets[bet] * NUMBERS_PLAYED )\n",
    "            money = money + winnings\n",
    "            bet = 1\n",
    "        else:\n",
    "            losses = losses + 1\n",
    "            money = money - (sequence_bets[bet] * NUMBERS_PLAYED)\n",
    "            if(bet == RESET_POINT):\n",
    "                bet = 1\n",
    "            else:\n",
    "                bet = bet + 1\n",
    "        winning_results.append(money)\n",
    "    return winning_results\n",
    "\n",
    "TOTAL_SPINS = 100\n",
    "NUMBERS_PLAYED = 5\n",
    "\n",
    "RESET_POINT = 26\n",
    "\n",
    "winning_results = []\n",
    "results = play_games() \n",
    "\n",
    "print('Final Earnings: $' + str(results[-1]))\n",
    "\n",
    "plt.plot(results)\n",
    "plt.ylabel('Earnings')\n",
    "plt.show()"
   ]
  },
  {
   "cell_type": "code",
   "execution_count": null,
   "metadata": {},
   "outputs": [],
   "source": []
  }
 ],
 "metadata": {
  "kernelspec": {
   "display_name": "Python 3",
   "language": "python",
   "name": "python3"
  },
  "language_info": {
   "codemirror_mode": {
    "name": "ipython",
    "version": 3
   },
   "file_extension": ".py",
   "mimetype": "text/x-python",
   "name": "python",
   "nbconvert_exporter": "python",
   "pygments_lexer": "ipython3",
   "version": "3.7.3"
  }
 },
 "nbformat": 4,
 "nbformat_minor": 2
}
